{
 "cells": [
  {
   "cell_type": "code",
   "execution_count": null,
   "metadata": {},
   "outputs": [],
   "source": [
    "# Removing background"
   ]
  },
  {
   "cell_type": "code",
   "execution_count": 1,
   "metadata": {},
   "outputs": [],
   "source": [
    "from pymatting import *\n",
    "import numpy as np\n",
    "import scipy.sparse\n",
    "\n",
    "scale = 1.0\n",
    "\n",
    "image = load_image(\"images-resized/Alicia.jpg\", \"RGB\", scale, \"box\")\n",
    "trimap = load_image(\"images-resized/Alicia.jpg\", \"GRAY\", scale, \"nearest\")\n",
    "\n",
    "# height and width of trimap\n",
    "h, w = trimap.shape[:2]\n",
    "\n",
    "# calculate laplacian matrix\n",
    "L = cf_laplacian(image)\n",
    "\n",
    "# decompose trimap\n",
    "is_fg, is_bg, is_known, is_unknown = trimap_split(trimap)\n",
    "\n",
    "# constraint weight\n",
    "lambda_value = 100.0\n",
    "\n",
    "# build constraint pixel selection matrix\n",
    "c = lambda_value * is_known\n",
    "C = scipy.sparse.diags(c)\n",
    "\n",
    "# build constraint value vector\n",
    "b = lambda_value * is_fg\n",
    "\n",
    "# build linear system\n",
    "A = L + C\n",
    "\n",
    "# build ichol preconditioner for faster convergence\n",
    "A = A.tocsr()\n",
    "A.sum_duplicates()\n",
    "M = ichol(A)\n",
    "\n",
    "# solve linear system with conjugate gradient descent\n",
    "x = cg(A, b, M=M)\n",
    "\n",
    "# clip and reshape result vector\n",
    "alpha = np.clip(x, 0.0, 1.0).reshape(h, w)\n",
    "\n",
    "save_image(\"Teste.png\", alpha)"
   ]
  }
 ],
 "metadata": {
  "kernelspec": {
   "display_name": "Python 3.8.10 64-bit",
   "language": "python",
   "name": "python3"
  },
  "language_info": {
   "codemirror_mode": {
    "name": "ipython",
    "version": 3
   },
   "file_extension": ".py",
   "mimetype": "text/x-python",
   "name": "python",
   "nbconvert_exporter": "python",
   "pygments_lexer": "ipython3",
   "version": "3.8.10"
  },
  "orig_nbformat": 4,
  "vscode": {
   "interpreter": {
    "hash": "916dbcbb3f70747c44a77c7bcd40155683ae19c65e1c03b4aa3499c5328201f1"
   }
  }
 },
 "nbformat": 4,
 "nbformat_minor": 2
}
